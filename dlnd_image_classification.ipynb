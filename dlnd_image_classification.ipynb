{
 "cells": [
  {
   "cell_type": "markdown",
   "metadata": {
    "collapsed": true
   },
   "source": [
    "# Image Classification\n",
    "In this project, you'll classify images from the [CIFAR-10 dataset](https://www.cs.toronto.edu/~kriz/cifar.html).  The dataset consists of airplanes, dogs, cats, and other objects. You'll preprocess the images, then train a convolutional neural network on all the samples. The images need to be normalized and the labels need to be one-hot encoded.  You'll get to apply what you learned and build a convolutional, max pooling, dropout, and fully connected layers.  At the end, you'll get to see your neural network's predictions on the sample images.\n",
    "## Get the Data\n",
    "Run the following cell to download the [CIFAR-10 dataset for python](https://www.cs.toronto.edu/~kriz/cifar-10-python.tar.gz)."
   ]
  },
  {
   "cell_type": "code",
   "execution_count": 2,
   "metadata": {
    "collapsed": false
   },
   "outputs": [
    {
     "name": "stdout",
     "output_type": "stream",
     "text": [
      "All files found!\n"
     ]
    }
   ],
   "source": [
    "\"\"\"\n",
    "DON'T MODIFY ANYTHING IN THIS CELL THAT IS BELOW THIS LINE\n",
    "\"\"\"\n",
    "from urllib.request import urlretrieve\n",
    "from os.path import isfile, isdir\n",
    "from tqdm import tqdm\n",
    "import problem_unittests as tests\n",
    "import tarfile\n",
    "\n",
    "cifar10_dataset_folder_path = 'cifar-10-batches-py'\n",
    "\n",
    "class DLProgress(tqdm):\n",
    "    last_block = 0\n",
    "\n",
    "    def hook(self, block_num=1, block_size=1, total_size=None):\n",
    "        self.total = total_size\n",
    "        self.update((block_num - self.last_block) * block_size)\n",
    "        self.last_block = block_num\n",
    "\n",
    "if not isfile('cifar-10-python.tar.gz'):\n",
    "    with DLProgress(unit='B', unit_scale=True, miniters=1, desc='CIFAR-10 Dataset') as pbar:\n",
    "        urlretrieve(\n",
    "            'https://www.cs.toronto.edu/~kriz/cifar-10-python.tar.gz',\n",
    "            'cifar-10-python.tar.gz',\n",
    "            pbar.hook)\n",
    "\n",
    "if not isdir(cifar10_dataset_folder_path):\n",
    "    with tarfile.open('cifar-10-python.tar.gz') as tar:\n",
    "        tar.extractall()\n",
    "        tar.close()\n",
    "\n",
    "\n",
    "tests.test_folder_path(cifar10_dataset_folder_path)"
   ]
  },
  {
   "cell_type": "markdown",
   "metadata": {},
   "source": [
    "## Explore the Data\n",
    "The dataset is broken into batches to prevent your machine from running out of memory.  The CIFAR-10 dataset consists of 5 batches, named `data_batch_1`, `data_batch_2`, etc.. Each batch contains the labels and images that are one of the following:\n",
    "* airplane\n",
    "* automobile\n",
    "* bird\n",
    "* cat\n",
    "* deer\n",
    "* dog\n",
    "* frog\n",
    "* horse\n",
    "* ship\n",
    "* truck\n",
    "\n",
    "Understanding a dataset is part of making predictions on the data.  Play around with the code cell below by changing the `batch_id` and `sample_id`. The `batch_id` is the id for a batch (1-5). The `sample_id` is the id for a image and label pair in the batch.\n",
    "\n",
    "Ask yourself \"What are all possible labels?\", \"What is the range of values for the image data?\", \"Are the labels in order or random?\".  Answers to questions like these will help you preprocess the data and end up with better predictions."
   ]
  },
  {
   "cell_type": "code",
   "execution_count": 3,
   "metadata": {
    "collapsed": false
   },
   "outputs": [
    {
     "name": "stdout",
     "output_type": "stream",
     "text": [
      "\n",
      "Stats of batch 5:\n",
      "Samples: 10000\n",
      "Label Counts: {0: 1014, 1: 1014, 2: 952, 3: 1016, 4: 997, 5: 1025, 6: 980, 7: 977, 8: 1003, 9: 1022}\n",
      "First 20 Labels: [1, 8, 5, 1, 5, 7, 4, 3, 8, 2, 7, 2, 0, 1, 5, 9, 6, 2, 0, 8]\n",
      "\n",
      "Example of Image 3:\n",
      "Image - Min Value: 0 Max Value: 252\n",
      "Image - Shape: (32, 32, 3)\n",
      "Label - Label Id: 1 Name: automobile\n"
     ]
    },
    {
     "data": {
      "image/png": "[encoded data removed]",
      "text/plain": [
       "<matplotlib.figure.Figure at 0xa541860>"
      ]
     },
     "metadata": {
      "image/png": {
       "height": 250,
       "width": 253
      }
     },
     "output_type": "display_data"
    }
   ],
   "source": [
    "%matplotlib inline\n",
    "%config InlineBackend.figure_format = 'retina'\n",
    "\n",
    "import helper\n",
    "import numpy as np\n",
    "\n",
    "# Explore the dataset\n",
    "batch_id = 5\n",
    "sample_id = 3\n",
    "helper.display_stats(cifar10_dataset_folder_path, batch_id, sample_id)"
   ]
  },
  {
   "cell_type": "markdown",
   "metadata": {},
   "source": [
    "## Implement Preprocess Functions\n",
    "### Normalize\n",
    "In the cell below, implement the `normalize` function to take in image data, `x`, and return it as a normalized Numpy array. The values should be in the range of 0 to 1, inclusive.  The return object should be the same shape as `x`."
   ]
  },
  {
   "cell_type": "code",
   "execution_count": 4,
   "metadata": {
    "collapsed": false
   },
   "outputs": [
    {
     "name": "stdout",
     "output_type": "stream",
     "text": [
      "Tests Passed\n"
     ]
    }
   ],
   "source": [
    "def normalize(x):\n",
    "    \"\"\"\n",
    "    Normalize a list of sample image data in the range of 0 to 1\n",
    "    : x: List of image data.  The image shape is (32, 32, 3)\n",
    "    : return: Numpy array of normalize data\n",
    "    \"\"\"\n",
    "    # TODO: Implement Function\n",
    "    Xmin = np.min(x)\n",
    "    Xmax = np.max(x)\n",
    "    Xmin_max = Xmax-Xmin\n",
    "    Xnorm = (x-Xmin)/Xmin_max\n",
    "    # TODO: Implement Function\n",
    "    return Xnorm\n",
    "\n",
    "\n",
    "\"\"\"\n",
    "DON'T MODIFY ANYTHING IN THIS CELL THAT IS BELOW THIS LINE\n",
    "\"\"\"\n",
    "tests.test_normalize(normalize)"
   ]
  },
  {
   "cell_type": "markdown",
   "metadata": {},
   "source": [
    "### One-hot encode\n",
    "Just like the previous code cell, you'll be implementing a function for preprocessing.  This time, you'll implement the `one_hot_encode` function. The input, `x`, are a list of labels.  Implement the function to return the list of labels as One-Hot encoded Numpy array.  The possible values for labels are 0 to 9. The one-hot encoding function should return the same encoding for each value between each call to `one_hot_encode`.  Make sure to save the map of encodings outside the function.\n",
    "\n",
    "Hint: Don't reinvent the wheel."
   ]
  },
  {
   "cell_type": "code",
   "execution_count": 5,
   "metadata": {
    "collapsed": false
   },
   "outputs": [
    {
     "name": "stdout",
     "output_type": "stream",
     "text": [
      "Tests Passed\n"
     ]
    }
   ],
   "source": [
    "def one_hot_encode(x):\n",
    "    \"\"\"\n",
    "    One hot encode a list of sample labels. Return a one-hot encoded vector for each label.\n",
    "    : x: List of sample Labels\n",
    "    : return: Numpy array of one-hot encoded labels\n",
    "    \"\"\"\n",
    "    # TODO: Implement Function\n",
    "    X_output = []\n",
    "    counter = 0\n",
    "    for i in x:\n",
    "        X_output.append([])\n",
    "        X_oh = np.zeros(10)\n",
    "        X_oh[i] = 1\n",
    "        X_output[counter].append(X_oh.T)\n",
    "        counter += 1   \n",
    "    # TODO: Implement Function\n",
    "    return np.squeeze(np.array(X_output))\n",
    "\n",
    "\n",
    "\"\"\"\n",
    "DON'T MODIFY ANYTHING IN THIS CELL THAT IS BELOW THIS LINE\n",
    "\"\"\"\n",
    "tests.test_one_hot_encode(one_hot_encode)"
   ]
  },
  {
   "cell_type": "markdown",
   "metadata": {},
   "source": [
    "### Randomize Data\n",
    "As you saw from exploring the data above, the order of the samples are randomized.  It doesn't hurt to randomize it again, but you don't need to for this dataset."
   ]
  },
  {
   "cell_type": "markdown",
   "metadata": {},
   "source": [
    "## Preprocess all the data and save it\n",
    "Running the code cell below will preprocess all the CIFAR-10 data and save it to file. The code below also uses 10% of the training data for validation."
   ]
  },
  {
   "cell_type": "code",
   "execution_count": 6,
   "metadata": {
    "collapsed": false
   },
   "outputs": [],
   "source": [
    "\"\"\"\n",
    "DON'T MODIFY ANYTHING IN THIS CELL\n",
    "\"\"\"\n",
    "# Preprocess Training, Validation, and Testing Data\n",
    "helper.preprocess_and_save_data(cifar10_dataset_folder_path, normalize, one_hot_encode)"
   ]
  },
  {
   "cell_type": "markdown",
   "metadata": {},
   "source": [
    "# Check Point\n",
    "This is your first checkpoint.  If you ever decide to come back to this notebook or have to restart the notebook, you can start from here.  The preprocessed data has been saved to disk."
   ]
  },
  {
   "cell_type": "code",
   "execution_count": 7,
   "metadata": {
    "collapsed": true
   },
   "outputs": [],
   "source": [
    "\"\"\"\n",
    "DON'T MODIFY ANYTHING IN THIS CELL\n",
    "\"\"\"\n",
    "import pickle\n",
    "import problem_unittests as tests\n",
    "import helper\n",
    "\n",
    "# Load the Preprocessed Validation data\n",
    "valid_features, valid_labels = pickle.load(open('preprocess_validation.p', mode='rb'))"
   ]
  },
  {
   "cell_type": "markdown",
   "metadata": {},
   "source": [
    "## Build the network\n",
    "For the neural network, you'll build each layer into a function.  Most of the code you've seen has been outside of functions. To test your code more thoroughly, we require that you put each layer in a function.  This allows us to give you better feedback and test for simple mistakes using our unittests before you submit your project.\n",
    "\n",
    "If you're finding it hard to dedicate enough time for this course a week, we've provided a small shortcut to this part of the project. In the next couple of problems, you'll have the option to use [TensorFlow Layers](https://www.tensorflow.org/api_docs/python/tf/layers) or [TensorFlow Layers (contrib)](https://www.tensorflow.org/api_guides/python/contrib.layers) to build each layer, except \"Convolutional & Max Pooling\" layer.  TF Layers is similar to Keras's and TFLearn's abstraction to layers, so it's easy to pickup.\n",
    "\n",
    "If you would like to get the most of this course, try to solve all the problems without TF Layers.  Let's begin!\n",
    "### Input\n",
    "The neural network needs to read the image data, one-hot encoded labels, and dropout keep probability. Implement the following functions\n",
    "* Implement `neural_net_image_input`\n",
    " * Return a [TF Placeholder](https://www.tensorflow.org/api_docs/python/tf/placeholder)\n",
    " * Set the shape using `image_shape` with batch size set to `None`.\n",
    " * Name the TensorFlow placeholder \"x\" using the TensorFlow `name` parameter in the [TF Placeholder](https://www.tensorflow.org/api_docs/python/tf/placeholder).\n",
    "* Implement `neural_net_label_input`\n",
    " * Return a [TF Placeholder](https://www.tensorflow.org/api_docs/python/tf/placeholder)\n",
    " * Set the shape using `n_classes` with batch size set to `None`.\n",
    " * Name the TensorFlow placeholder \"y\" using the TensorFlow `name` parameter in the [TF Placeholder](https://www.tensorflow.org/api_docs/python/tf/placeholder).\n",
    "* Implement `neural_net_keep_prob_input`\n",
    " * Return a [TF Placeholder](https://www.tensorflow.org/api_docs/python/tf/placeholder) for dropout keep probability.\n",
    " * Name the TensorFlow placeholder \"keep_prob\" using the TensorFlow `name` parameter in the [TF Placeholder](https://www.tensorflow.org/api_docs/python/tf/placeholder).\n",
    "\n",
    "These names will be used at the end of the project to load your saved model.\n",
    "\n",
    "Note: `None` for shapes in TensorFlow allow for a dynamic size."
   ]
  },
  {
   "cell_type": "code",
   "execution_count": 8,
   "metadata": {
    "collapsed": false
   },
   "outputs": [
    {
     "name": "stdout",
     "output_type": "stream",
     "text": [
      "Image Input Tests Passed.\n",
      "Label Input Tests Passed.\n",
      "Keep Prob Tests Passed.\n"
     ]
    }
   ],
   "source": [
    "import tensorflow as tf\n",
    "\n",
    "def neural_net_image_input(image_shape):\n",
    "    \"\"\"\n",
    "    Return a Tensor for a bach of image input\n",
    "    : image_shape: Shape of the images\n",
    "    : return: Tensor for image input.\n",
    "    \"\"\"\n",
    "    # TODO: Implement Function\n",
    "    img_w = image_shape[0]\n",
    "    img_h = image_shape[1]\n",
    "    img_d = image_shape[2]\n",
    "    image_output = tf.placeholder(tf.float32, [None, img_w, img_h, img_d], name ='x')\n",
    "    \n",
    "    return image_output\n",
    "\n",
    "\n",
    "def neural_net_label_input(n_classes):\n",
    "    \"\"\"\n",
    "    Return a Tensor for a batch of label input\n",
    "    : n_classes: Number of classes\n",
    "    : return: Tensor for label input.\n",
    "    \"\"\"\n",
    "    # TODO: Implement Function\n",
    "    label_output = tf.placeholder(tf.int32, [None, n_classes], name='y')\n",
    "    return label_output\n",
    "\n",
    "\n",
    "def neural_net_keep_prob_input():\n",
    "    \"\"\"\n",
    "    Return a Tensor for keep probability\n",
    "    : return: Tensor for keep probability.\n",
    "    \"\"\"\n",
    "    # TODO: Implement Function\n",
    "    kp = tf.placeholder(tf.float32, name = 'keep_prob')\n",
    "    return kp\n",
    "\n",
    "\n",
    "\"\"\"\n",
    "DON'T MODIFY ANYTHING IN THIS CELL THAT IS BELOW THIS LINE\n",
    "\"\"\"\n",
    "tf.reset_default_graph()\n",
    "tests.test_nn_image_inputs(neural_net_image_input)\n",
    "tests.test_nn_label_inputs(neural_net_label_input)\n",
    "tests.test_nn_keep_prob_inputs(neural_net_keep_prob_input)"
   ]
  },
  {
   "cell_type": "markdown",
   "metadata": {},
   "source": [
    "### Convolution and Max Pooling Layer\n",
    "Convolution layers have a lot of success with images. For this code cell, you should implement the function `conv2d_maxpool` to apply convolution then max pooling:\n",
    "* Create the weight and bias using `conv_ksize`, `conv_num_outputs` and the shape of `x_tensor`.\n",
    "* Apply a convolution to `x_tensor` using weight and `conv_strides`.\n",
    " * We recommend you use same padding, but you're welcome to use any padding.\n",
    "* Add bias\n",
    "* Add a nonlinear activation to the convolution.\n",
    "* Apply Max Pooling using `pool_ksize` and `pool_strides`.\n",
    " * We recommend you use same padding, but you're welcome to use any padding.\n",
    "\n",
    "Note: You **can't** use [TensorFlow Layers](https://www.tensorflow.org/api_docs/python/tf/layers) or [TensorFlow Layers (contrib)](https://www.tensorflow.org/api_guides/python/contrib.layers) for this layer.  You're free to use any TensorFlow package for all the other layers."
   ]
  },
  {
   "cell_type": "code",
   "execution_count": 9,
   "metadata": {
    "collapsed": false
   },
   "outputs": [
    {
     "name": "stdout",
     "output_type": "stream",
     "text": [
      "Tests Passed\n"
     ]
    }
   ],
   "source": [
    "def conv2d_maxpool(x_tensor, conv_num_outputs, conv_ksize, conv_strides, pool_ksize, pool_strides):\n",
    "    \"\"\"\n",
    "    Apply convolution then max pooling to x_tensor\n",
    "    :param x_tensor: TensorFlow Tensor\n",
    "    :param conv_num_outputs: Number of outputs for the convolutional layer\n",
    "    :param conv_strides: Stride 2-D Tuple for convolution\n",
    "    :param pool_ksize: kernal size 2-D Tuple for pool\n",
    "    :param pool_strides: Stride 2-D Tuple for pool\n",
    "    : return: A tensor that represents convolution and max pooling of x_tensor\n",
    "    \"\"\"\n",
    "    # TODO: Implement Function\n",
    "    input_depth = x_tensor.get_shape().as_list()[-1]\n",
    "    filter_weights = tf.Variable(tf.truncated_normal([conv_ksize[0], conv_ksize[1], input_depth, conv_num_outputs]))\n",
    "    conv_layer = tf.nn.conv2d(x_tensor, filter_weights, strides=[1, conv_strides[0], conv_strides[1], 1], padding = 'SAME')\n",
    "    filter_bias = tf.Variable(tf.zeros(conv_num_outputs))\n",
    "    conv_layer = tf.nn.bias_add(conv_layer, filter_bias)\n",
    "    pool_ksize = [1, pool_ksize[0], pool_ksize[1], 1]\n",
    "    pool_strides = [1, pool_strides[0], pool_strides[1], 1]\n",
    "    \n",
    "    conv_layer = tf.nn.max_pool(conv_layer, pool_ksize, pool_strides, padding='SAME')\n",
    "    return conv_layer \n",
    "\n",
    "\n",
    "\"\"\"\n",
    "DON'T MODIFY ANYTHING IN THIS CELL THAT IS BELOW THIS LINE\n",
    "\"\"\"\n",
    "tests.test_con_pool(conv2d_maxpool)"
   ]
  },
  {
   "cell_type": "markdown",
   "metadata": {},
   "source": [
    "### Flatten Layer\n",
    "Implement the `flatten` function to change the dimension of `x_tensor` from a 4-D tensor to a 2-D tensor.  The output should be the shape (*Batch Size*, *Flattened Image Size*). You can use [TensorFlow Layers](https://www.tensorflow.org/api_docs/python/tf/layers) or [TensorFlow Layers (contrib)](https://www.tensorflow.org/api_guides/python/contrib.layers) for this layer."
   ]
  },
  {
   "cell_type": "code",
   "execution_count": 10,
   "metadata": {
    "collapsed": false
   },
   "outputs": [
    {
     "name": "stdout",
     "output_type": "stream",
     "text": [
      "Tests Passed\n"
     ]
    }
   ],
   "source": [
    "def flatten(x_tensor):\n",
    "    \"\"\"\n",
    "    Flatten x_tensor to (Batch Size, Flattened Image Size)\n",
    "    : x_tensor: A tensor of size (Batch Size, ...), where ... are the image dimensions.\n",
    "    : return: A tensor of size (Batch Size, Flattened Image Size).\n",
    "    \"\"\"\n",
    "    # TODO: Implement Function\n",
    "    x_shape = x_tensor.get_shape().as_list()\n",
    "    x_flat_shape = np.product(x_shape[1:])\n",
    "    x_flat = tf.reshape(x_tensor, [-1, x_flat_shape])\n",
    "    return x_flat\n",
    "\n",
    "\n",
    "\"\"\"\n",
    "DON'T MODIFY ANYTHING IN THIS CELL THAT IS BELOW THIS LINE\n",
    "\"\"\"\n",
    "tests.test_flatten(flatten)"
   ]
  },
  {
   "cell_type": "markdown",
   "metadata": {},
   "source": [
    "### Fully-Connected Layer\n",
    "Implement the `fully_conn` function to apply a fully connected layer to `x_tensor` with the shape (*Batch Size*, *num_outputs*). You can use [TensorFlow Layers](https://www.tensorflow.org/api_docs/python/tf/layers) or [TensorFlow Layers (contrib)](https://www.tensorflow.org/api_guides/python/contrib.layers) for this layer."
   ]
  },
  {
   "cell_type": "code",
   "execution_count": 11,
   "metadata": {
    "collapsed": false
   },
   "outputs": [
    {
     "name": "stdout",
     "output_type": "stream",
     "text": [
      "Tests Passed\n"
     ]
    }
   ],
   "source": [
    "def fully_conn(x_tensor, num_outputs):\n",
    "    \"\"\"\n",
    "    Apply a fully connected layer to x_tensor using weight and bias\n",
    "    : x_tensor: A 2-D tensor where the first dimension is batch size.\n",
    "    : num_outputs: The number of output that the new tensor should be.\n",
    "    : return: A 2-D tensor where the second dimension is num_outputs.\n",
    "    \"\"\"\n",
    "    # TODO: Implement Function\n",
    "    x_shape = x_tensor.get_shape().as_list()[1]\n",
    "    weights = tf.Variable(tf.truncated_normal([x_shape, num_outputs]))\n",
    "    output = tf.matmul(x_tensor, weights)\n",
    "    bias = tf.zeros([num_outputs])\n",
    "    fully_con = tf.nn.bias_add(output, bias)\n",
    "    return fully_con\n",
    "\n",
    "\n",
    "\"\"\"\n",
    "DON'T MODIFY ANYTHING IN THIS CELL THAT IS BELOW THIS LINE\n",
    "\"\"\"\n",
    "tests.test_fully_conn(fully_conn)"
   ]
  },
  {
   "cell_type": "markdown",
   "metadata": {},
   "source": [
    "### Output Layer\n",
    "Implement the `output` function to apply a fully connected layer to `x_tensor` with the shape (*Batch Size*, *num_outputs*). You can use [TensorFlow Layers](https://www.tensorflow.org/api_docs/python/tf/layers) or [TensorFlow Layers (contrib)](https://www.tensorflow.org/api_guides/python/contrib.layers) for this layer.\n",
    "\n",
    "Note: Activation, softmax, or cross entropy shouldn't be applied to this."
   ]
  },
  {
   "cell_type": "code",
   "execution_count": 12,
   "metadata": {
    "collapsed": false
   },
   "outputs": [
    {
     "name": "stdout",
     "output_type": "stream",
     "text": [
      "Tests Passed\n"
     ]
    }
   ],
   "source": [
    "def output(x_tensor, num_outputs):\n",
    "    \"\"\"\n",
    "    Apply a output layer to x_tensor using weight and bias\n",
    "    : x_tensor: A 2-D tensor where the first dimension is batch size.\n",
    "    : num_outputs: The number of output that the new tensor should be.\n",
    "    : return: A 2-D tensor where the second dimension is num_outputs.\n",
    "    \"\"\"\n",
    "    # TODO: Implement Function\n",
    "    return fully_conn(x_tensor, num_outputs)\n",
    "\n",
    "\n",
    "\"\"\"\n",
    "DON'T MODIFY ANYTHING IN THIS CELL THAT IS BELOW THIS LINE\n",
    "\"\"\"\n",
    "tests.test_output(output)"
   ]
  },
  {
   "cell_type": "markdown",
   "metadata": {},
   "source": [
    "### Create Convolutional Model\n",
    "Implement the function `conv_net` to create a convolutional neural network model. The function takes in a batch of images, `x`, and outputs logits.  Use the layers you created above to create this model:\n",
    "\n",
    "* Apply 1, 2, or 3 Convolution and Max Pool layers\n",
    "* Apply a Flatten Layer\n",
    "* Apply 1, 2, or 3 Fully Connected Layers\n",
    "* Apply an Output Layer\n",
    "* Return the output\n",
    "* Apply [TensorFlow's Dropout](https://www.tensorflow.org/api_docs/python/tf/nn/dropout) to one or more layers in the model using `keep_prob`. "
   ]
  },
  {
   "cell_type": "code",
   "execution_count": 21,
   "metadata": {
    "collapsed": false
   },
   "outputs": [
    {
     "name": "stdout",
     "output_type": "stream",
     "text": [
      "Neural Network Built!\n"
     ]
    }
   ],
   "source": [
    "def conv_net(x, keep_prob):\n",
    "    \"\"\"\n",
    "    Create a convolutional neural network model\n",
    "    : x: Placeholder tensor that holds image data.\n",
    "    : keep_prob: Placeholder tensor that hold dropout keep probability.\n",
    "    : return: Tensor that represents logits\n",
    "    \"\"\"\n",
    "    # TODO: Apply 1, 2, or 3 Convolution and Max Pool layers\n",
    "    #    Play around with different number of outputs, kernel size and stride\n",
    "    # Function Definition from Above:\n",
    "    conv_num_outputs = {'num_ouput_conv1': 400, 'num_ouput_conv2': 200, 'num_ouput_conv3': 100}\n",
    "    conv_ksize = {'conv_ksize1': (4, 4), 'conv_ksize2': (4, 4), 'conv_ksize3': (4, 4)}\n",
    "    conv_strides = (2, 2)\n",
    "    pool_ksize = {'pool_ksize1':conv_ksize['conv_ksize1'], 'pool_ksize2':conv_ksize['conv_ksize2'],'pool_ksize3':conv_ksize['conv_ksize3']}\n",
    "    pool_strides = (2, 2)   \n",
    "    net = conv2d_maxpool(x, conv_num_outputs['num_ouput_conv1'], conv_ksize['conv_ksize1'], conv_strides, pool_ksize['pool_ksize1'], pool_strides)\n",
    "    net = tf.nn.dropout(net, keep_prob)\n",
    "    net = conv2d_maxpool(x, conv_num_outputs['num_ouput_conv2'], conv_ksize['conv_ksize2'], conv_strides, pool_ksize['pool_ksize1'], pool_strides)\n",
    "#    net = tf.nn.dropout(net, keep_prob)\n",
    "    net = conv2d_maxpool(x, conv_num_outputs['num_ouput_conv3'], conv_ksize['conv_ksize3'], conv_strides, pool_ksize['pool_ksize1'], pool_strides)\n",
    "#    net = tf.nn.dropout(net, keep_prob)\n",
    "    \n",
    "    # TODO: Apply a Flatten Layer\n",
    "    # Function Definition from Above:\n",
    "    #   flatten(x_tensor)\n",
    "    net = flatten(net)\n",
    "    \n",
    "    # TODO: Apply 1, 2, or 3 Fully Connected Layers\n",
    "    #    Play around with different number of outputs\n",
    "    # Function Definition from Above:\n",
    "    #   fully_conn(x_tensor, num_outputs)\n",
    "    fc_num_output = {'num_output_fc1': 1000, 'num_output_fc2': 100,'num_output_fc3': 50}\n",
    "    net = fully_conn(net, fc_num_output['num_output_fc1'])\n",
    "#    net = tf.nn.dropout(net, keep_prob)\n",
    "    net = fully_conn(net, fc_num_output['num_output_fc2'])\n",
    "#    net = tf.nn.dropout(net, keep_prob)\n",
    "    net = fully_conn(net, fc_num_output['num_output_fc3'])\n",
    "    \n",
    "    # TODO: Apply an Output Layer\n",
    "    #    Set this to the number of classes\n",
    "    # Function Definition from Above:\n",
    "    #   output(x_tensor, num_outputs)\n",
    "    num_output = 10\n",
    "    net_output = output(net, num_output)\n",
    "    \n",
    "    # TODO: return output\n",
    "    return net_output\n",
    "\n",
    "\n",
    "\"\"\"\n",
    "DON'T MODIFY ANYTHING IN THIS CELL THAT IS BELOW THIS LINE\n",
    "\"\"\"\n",
    "\n",
    "##############################\n",
    "## Build the Neural Network ##\n",
    "##############################\n",
    "\n",
    "# Remove previous weights, bias, inputs, etc..\n",
    "tf.reset_default_graph()\n",
    "\n",
    "# Inputs\n",
    "x = neural_net_image_input((32, 32, 3))\n",
    "y = neural_net_label_input(10)\n",
    "keep_prob = neural_net_keep_prob_input()\n",
    "\n",
    "# Model\n",
    "logits = conv_net(x, keep_prob)\n",
    "\n",
    "# Name logits Tensor, so that is can be loaded from disk after training\n",
    "logits = tf.identity(logits, name='logits')\n",
    "\n",
    "# Loss and Optimizer\n",
    "cost = tf.reduce_mean(tf.nn.softmax_cross_entropy_with_logits(logits=logits, labels=y))\n",
    "optimizer = tf.train.AdamOptimizer().minimize(cost)\n",
    "\n",
    "# Accuracy\n",
    "correct_pred = tf.equal(tf.argmax(logits, 1), tf.argmax(y, 1))\n",
    "accuracy = tf.reduce_mean(tf.cast(correct_pred, tf.float32), name='accuracy')\n",
    "\n",
    "tests.test_conv_net(conv_net)"
   ]
  },
  {
   "cell_type": "markdown",
   "metadata": {},
   "source": [
    "## Train the Neural Network\n",
    "### Single Optimization\n",
    "Implement the function `train_neural_network` to do a single optimization.  The optimization should use `optimizer` to optimize in `session` with a `feed_dict` of the following:\n",
    "* `x` for image input\n",
    "* `y` for labels\n",
    "* `keep_prob` for keep probability for dropout\n",
    "\n",
    "This function will be called for each batch, so `tf.global_variables_initializer()` has already been called.\n",
    "\n",
    "Note: Nothing needs to be returned. This function is only optimizing the neural network."
   ]
  },
  {
   "cell_type": "code",
   "execution_count": 22,
   "metadata": {
    "collapsed": false
   },
   "outputs": [
    {
     "name": "stdout",
     "output_type": "stream",
     "text": [
      "Tests Passed\n"
     ]
    }
   ],
   "source": [
    "def train_neural_network(session, optimizer, keep_probability, feature_batch, label_batch):\n",
    "    \"\"\"\n",
    "    Optimize the session on a batch of images and labels\n",
    "    : session: Current TensorFlow session\n",
    "    : optimizer: TensorFlow optimizer function\n",
    "    : keep_probability: keep probability\n",
    "    : feature_batch: Batch of Numpy image data\n",
    "    : label_batch: Batch of Numpy label data\n",
    "    \"\"\"\n",
    "    # TODO: Implement Function\n",
    "    session.run(optimizer, feed_dict={keep_prob: keep_probability, x: feature_batch, y: label_batch})\n",
    "\n",
    "\n",
    "\"\"\"\n",
    "DON'T MODIFY ANYTHING IN THIS CELL THAT IS BELOW THIS LINE\n",
    "\"\"\"\n",
    "tests.test_train_nn(train_neural_network)"
   ]
  },
  {
   "cell_type": "markdown",
   "metadata": {},
   "source": [
    "### Show Stats\n",
    "Implement the function `print_stats` to print loss and validation accuracy.  Use the global variables `valid_features` and `valid_labels` to calculate validation accuracy.  Use a keep probability of `1.0` to calculate the loss and validation accuracy."
   ]
  },
  {
   "cell_type": "code",
   "execution_count": 15,
   "metadata": {
    "collapsed": false
   },
   "outputs": [],
   "source": [
    "def print_stats(session, feature_batch, label_batch, cost, accuracy):\n",
    "    \"\"\"\n",
    "    Print information about loss and validation accuracy\n",
    "    : session: Current TensorFlow session\n",
    "    : feature_batch: Batch of Numpy image data\n",
    "    : label_batch: Batch of Numpy label data\n",
    "    : cost: TensorFlow cost function\n",
    "    : accuracy: TensorFlow accuracy function\n",
    "    \"\"\"\n",
    "    # TODO: Implement Function\n",
    "    global valid_features, valid_labels\n",
    "    stats_cost = session.run(cost, feed_dict={keep_prob:1, x:valid_features, y:valid_labels})\n",
    "    stats_accuracy = session.run(accuracy, feed_dict={keep_prob:1, x:feature_batch, y:label_batch})\n",
    "    print('Validation Cost: {} Accuracy: {}'.format(stats_cost,stats_accuracy))"
   ]
  },
  {
   "cell_type": "markdown",
   "metadata": {},
   "source": [
    "### Hyperparameters\n",
    "Tune the following parameters:\n",
    "* Set `epochs` to the number of iterations until the network stops learning or start overfitting\n",
    "* Set `batch_size` to the highest number that your machine has memory for.  Most people set them to common sizes of memory:\n",
    " * 64\n",
    " * 128\n",
    " * 256\n",
    " * ...\n",
    "* Set `keep_probability` to the probability of keeping a node using dropout"
   ]
  },
  {
   "cell_type": "code",
   "execution_count": 23,
   "metadata": {
    "collapsed": true
   },
   "outputs": [],
   "source": [
    "# TODO: Tune Parameters\n",
    "epochs = 10\n",
    "batch_size = 128\n",
    "keep_probability = 0.8"
   ]
  },
  {
   "cell_type": "markdown",
   "metadata": {},
   "source": [
    "### Train on a Single CIFAR-10 Batch\n",
    "Instead of training the neural network on all the CIFAR-10 batches of data, let's use a single batch. This should save time while you iterate on the model to get a better accuracy.  Once the final validation accuracy is 50% or greater, run the model on all the data in the next section."
   ]
  },
  {
   "cell_type": "code",
   "execution_count": 24,
   "metadata": {
    "collapsed": false
   },
   "outputs": [
    {
     "name": "stdout",
     "output_type": "stream",
     "text": [
      "Checking the Training on a Single Batch...\n",
      "Epoch  1, CIFAR-10 Batch 1:  Validation Cost: 65045.50390625 Accuracy: 0.25\n",
      "Epoch  2, CIFAR-10 Batch 1:  Validation Cost: 51885.68359375 Accuracy: 0.4000000059604645\n",
      "Epoch  3, CIFAR-10 Batch 1:  Validation Cost: 44486.203125 Accuracy: 0.44999998807907104\n",
      "Epoch  4, CIFAR-10 Batch 1:  Validation Cost: 54159.796875 Accuracy: 0.44999998807907104\n",
      "Epoch  5, CIFAR-10 Batch 1:  Validation Cost: 39937.859375 Accuracy: 0.625\n",
      "Epoch  6, CIFAR-10 Batch 1:  Validation Cost: 39752.72265625 Accuracy: 0.6000000238418579\n",
      "Epoch  7, CIFAR-10 Batch 1:  Validation Cost: 36591.83984375 Accuracy: 0.5249999761581421\n",
      "Epoch  8, CIFAR-10 Batch 1:  Validation Cost: 35967.41015625 Accuracy: 0.550000011920929\n",
      "Epoch  9, CIFAR-10 Batch 1:  Validation Cost: 30602.38671875 Accuracy: 0.675000011920929\n",
      "Epoch 10, CIFAR-10 Batch 1:  Validation Cost: 31899.36328125 Accuracy: 0.6000000238418579\n"
     ]
    }
   ],
   "source": [
    "\"\"\"\n",
    "DON'T MODIFY ANYTHING IN THIS CELL\n",
    "\"\"\"\n",
    "print('Checking the Training on a Single Batch...')\n",
    "with tf.Session() as sess:\n",
    "    # Initializing the variables\n",
    "    sess.run(tf.global_variables_initializer())\n",
    "    \n",
    "    # Training cycle\n",
    "    for epoch in range(epochs):\n",
    "        batch_i = 1\n",
    "        for batch_features, batch_labels in helper.load_preprocess_training_batch(batch_i, batch_size):\n",
    "            train_neural_network(sess, optimizer, keep_probability, batch_features, batch_labels)\n",
    "        print('Epoch {:>2}, CIFAR-10 Batch {}:  '.format(epoch + 1, batch_i), end='')\n",
    "        print_stats(sess, batch_features, batch_labels, cost, accuracy)"
   ]
  },
  {
   "cell_type": "markdown",
   "metadata": {},
   "source": [
    "### Fully Train the Model\n",
    "Now that you got a good accuracy with a single CIFAR-10 batch, try it with all five batches."
   ]
  },
  {
   "cell_type": "code",
   "execution_count": 18,
   "metadata": {
    "collapsed": false
   },
   "outputs": [
    {
     "name": "stdout",
     "output_type": "stream",
     "text": [
      "Training...\n",
      "Epoch  1, CIFAR-10 Batch 1:  Validation Cost: 61164.7109375 Accuracy: 0.32499998807907104\n",
      "Epoch  1, CIFAR-10 Batch 2:  Validation Cost: 47989.41796875 Accuracy: 0.4000000059604645\n",
      "Epoch  1, CIFAR-10 Batch 3:  Validation Cost: 39492.1640625 Accuracy: 0.2750000059604645\n",
      "Epoch  1, CIFAR-10 Batch 4:  Validation Cost: 41227.71875 Accuracy: 0.550000011920929\n",
      "Epoch  1, CIFAR-10 Batch 5:  Validation Cost: 36984.7734375 Accuracy: 0.30000001192092896\n",
      "Epoch  2, CIFAR-10 Batch 1:  Validation Cost: 30736.421875 Accuracy: 0.4749999940395355\n",
      "Epoch  2, CIFAR-10 Batch 2:  Validation Cost: 30899.287109375 Accuracy: 0.4749999940395355\n",
      "Epoch  2, CIFAR-10 Batch 3:  Validation Cost: 29725.06640625 Accuracy: 0.4000000059604645\n",
      "Epoch  2, CIFAR-10 Batch 4:  Validation Cost: 28351.85546875 Accuracy: 0.4749999940395355\n",
      "Epoch  2, CIFAR-10 Batch 5:  Validation Cost: 34841.16796875 Accuracy: 0.3499999940395355\n",
      "Epoch  3, CIFAR-10 Batch 1:  Validation Cost: 22790.3671875 Accuracy: 0.6000000238418579\n",
      "Epoch  3, CIFAR-10 Batch 2:  Validation Cost: 20631.4375 Accuracy: 0.574999988079071\n",
      "Epoch  3, CIFAR-10 Batch 3:  Validation Cost: 21516.2109375 Accuracy: 0.5249999761581421\n",
      "Epoch  3, CIFAR-10 Batch 4:  Validation Cost: 21443.275390625 Accuracy: 0.5249999761581421\n",
      "Epoch  3, CIFAR-10 Batch 5:  Validation Cost: 25617.048828125 Accuracy: 0.4749999940395355\n",
      "Epoch  4, CIFAR-10 Batch 1:  Validation Cost: 17988.736328125 Accuracy: 0.6499999761581421\n",
      "Epoch  4, CIFAR-10 Batch 2:  Validation Cost: 17903.83984375 Accuracy: 0.574999988079071\n",
      "Epoch  4, CIFAR-10 Batch 3:  Validation Cost: 17673.833984375 Accuracy: 0.550000011920929\n",
      "Epoch  4, CIFAR-10 Batch 4:  Validation Cost: 16902.470703125 Accuracy: 0.5\n",
      "Epoch  4, CIFAR-10 Batch 5:  Validation Cost: 17087.138671875 Accuracy: 0.550000011920929\n",
      "Epoch  5, CIFAR-10 Batch 1:  Validation Cost: 15417.326171875 Accuracy: 0.625\n",
      "Epoch  5, CIFAR-10 Batch 2:  Validation Cost: 14107.4052734375 Accuracy: 0.6499999761581421\n",
      "Epoch  5, CIFAR-10 Batch 3:  Validation Cost: 16038.8447265625 Accuracy: 0.4749999940395355\n",
      "Epoch  5, CIFAR-10 Batch 4:  Validation Cost: 15155.0244140625 Accuracy: 0.574999988079071\n",
      "Epoch  5, CIFAR-10 Batch 5:  Validation Cost: 13567.5556640625 Accuracy: 0.6000000238418579\n",
      "Epoch  6, CIFAR-10 Batch 1:  Validation Cost: 13189.857421875 Accuracy: 0.6499999761581421\n",
      "Epoch  6, CIFAR-10 Batch 2:  Validation Cost: 13431.68359375 Accuracy: 0.625\n",
      "Epoch  6, CIFAR-10 Batch 3:  Validation Cost: 13333.1455078125 Accuracy: 0.550000011920929\n",
      "Epoch  6, CIFAR-10 Batch 4:  Validation Cost: 11978.9677734375 Accuracy: 0.625\n",
      "Epoch  6, CIFAR-10 Batch 5:  Validation Cost: 12808.748046875 Accuracy: 0.6000000238418579\n",
      "Epoch  7, CIFAR-10 Batch 1:  Validation Cost: 10869.298828125 Accuracy: 0.675000011920929\n",
      "Epoch  7, CIFAR-10 Batch 2:  Validation Cost: 11396.244140625 Accuracy: 0.6000000238418579\n",
      "Epoch  7, CIFAR-10 Batch 3:  Validation Cost: 10274.294921875 Accuracy: 0.75\n",
      "Epoch  7, CIFAR-10 Batch 4:  Validation Cost: 10236.7861328125 Accuracy: 0.675000011920929\n",
      "Epoch  7, CIFAR-10 Batch 5:  Validation Cost: 10549.5341796875 Accuracy: 0.625\n",
      "Epoch  8, CIFAR-10 Batch 1:  Validation Cost: 10219.6162109375 Accuracy: 0.7250000238418579\n",
      "Epoch  8, CIFAR-10 Batch 2:  Validation Cost: 10130.71875 Accuracy: 0.6499999761581421\n",
      "Epoch  8, CIFAR-10 Batch 3:  Validation Cost: 10182.3173828125 Accuracy: 0.699999988079071\n",
      "Epoch  8, CIFAR-10 Batch 4:  Validation Cost: 8939.98046875 Accuracy: 0.7250000238418579\n",
      "Epoch  8, CIFAR-10 Batch 5:  Validation Cost: 9232.98046875 Accuracy: 0.5249999761581421\n",
      "Epoch  9, CIFAR-10 Batch 1:  Validation Cost: 9624.65234375 Accuracy: 0.675000011920929\n",
      "Epoch  9, CIFAR-10 Batch 2:  Validation Cost: 8894.1015625 Accuracy: 0.699999988079071\n",
      "Epoch  9, CIFAR-10 Batch 3:  Validation Cost: 9354.0302734375 Accuracy: 0.6499999761581421\n",
      "Epoch  9, CIFAR-10 Batch 4:  Validation Cost: 7845.310546875 Accuracy: 0.625\n",
      "Epoch  9, CIFAR-10 Batch 5:  Validation Cost: 7975.40087890625 Accuracy: 0.6000000238418579\n",
      "Epoch 10, CIFAR-10 Batch 1:  Validation Cost: 8546.6591796875 Accuracy: 0.7749999761581421\n",
      "Epoch 10, CIFAR-10 Batch 2:  Validation Cost: 7370.7294921875 Accuracy: 0.8999999761581421\n",
      "Epoch 10, CIFAR-10 Batch 3:  Validation Cost: 7463.5087890625 Accuracy: 0.824999988079071\n",
      "Epoch 10, CIFAR-10 Batch 4:  Validation Cost: 6639.89013671875 Accuracy: 0.6499999761581421\n",
      "Epoch 10, CIFAR-10 Batch 5:  Validation Cost: 7406.62939453125 Accuracy: 0.574999988079071\n",
      "Epoch 11, CIFAR-10 Batch 1:  Validation Cost: 7526.33056640625 Accuracy: 0.800000011920929\n",
      "Epoch 11, CIFAR-10 Batch 2:  Validation Cost: 6492.525390625 Accuracy: 0.8500000238418579\n",
      "Epoch 11, CIFAR-10 Batch 3:  Validation Cost: 6251.23583984375 Accuracy: 0.824999988079071\n",
      "Epoch 11, CIFAR-10 Batch 4:  Validation Cost: 5926.34814453125 Accuracy: 0.6000000238418579\n",
      "Epoch 11, CIFAR-10 Batch 5:  Validation Cost: 5886.33056640625 Accuracy: 0.7250000238418579\n",
      "Epoch 12, CIFAR-10 Batch 1:  Validation Cost: 5942.56787109375 Accuracy: 0.824999988079071\n",
      "Epoch 12, CIFAR-10 Batch 2:  Validation Cost: 5705.44140625 Accuracy: 0.8500000238418579\n",
      "Epoch 12, CIFAR-10 Batch 3:  Validation Cost: 5392.0458984375 Accuracy: 0.8500000238418579\n",
      "Epoch 12, CIFAR-10 Batch 4:  Validation Cost: 4988.14501953125 Accuracy: 0.699999988079071\n",
      "Epoch 12, CIFAR-10 Batch 5:  Validation Cost: 5641.08056640625 Accuracy: 0.625\n",
      "Epoch 13, CIFAR-10 Batch 1:  Validation Cost: 5060.8486328125 Accuracy: 0.824999988079071\n",
      "Epoch 13, CIFAR-10 Batch 2:  Validation Cost: 4904.8544921875 Accuracy: 0.824999988079071\n",
      "Epoch 13, CIFAR-10 Batch 3:  Validation Cost: 4850.62451171875 Accuracy: 0.8999999761581421\n",
      "Epoch 13, CIFAR-10 Batch 4:  Validation Cost: 4452.244140625 Accuracy: 0.675000011920929\n",
      "Epoch 13, CIFAR-10 Batch 5:  Validation Cost: 4754.4345703125 Accuracy: 0.675000011920929\n",
      "Epoch 14, CIFAR-10 Batch 1:  Validation Cost: 4495.38525390625 Accuracy: 0.7749999761581421\n",
      "Epoch 14, CIFAR-10 Batch 2:  Validation Cost: 4241.58056640625 Accuracy: 0.875\n",
      "Epoch 14, CIFAR-10 Batch 3:  Validation Cost: 4177.01123046875 Accuracy: 0.824999988079071\n",
      "Epoch 14, CIFAR-10 Batch 4:  Validation Cost: 3957.8720703125 Accuracy: 0.7250000238418579\n",
      "Epoch 14, CIFAR-10 Batch 5:  Validation Cost: 4643.35595703125 Accuracy: 0.675000011920929\n",
      "Epoch 15, CIFAR-10 Batch 1:  Validation Cost: 3741.5859375 Accuracy: 0.699999988079071\n",
      "Epoch 15, CIFAR-10 Batch 2:  Validation Cost: 4109.96240234375 Accuracy: 0.800000011920929\n",
      "Epoch 15, CIFAR-10 Batch 3:  Validation Cost: 3820.99560546875 Accuracy: 0.824999988079071\n",
      "Epoch 15, CIFAR-10 Batch 4:  Validation Cost: 3568.476318359375 Accuracy: 0.7749999761581421\n",
      "Epoch 15, CIFAR-10 Batch 5:  Validation Cost: 3819.284423828125 Accuracy: 0.675000011920929\n",
      "Epoch 16, CIFAR-10 Batch 1:  Validation Cost: 3291.564208984375 Accuracy: 0.75\n",
      "Epoch 16, CIFAR-10 Batch 2:  Validation Cost: 3433.174072265625 Accuracy: 0.824999988079071\n",
      "Epoch 16, CIFAR-10 Batch 3:  Validation Cost: 3434.488037109375 Accuracy: 0.800000011920929\n",
      "Epoch 16, CIFAR-10 Batch 4:  Validation Cost: 3366.0712890625 Accuracy: 0.675000011920929\n",
      "Epoch 16, CIFAR-10 Batch 5:  Validation Cost: 3246.412109375 Accuracy: 0.7250000238418579\n",
      "Epoch 17, CIFAR-10 Batch 1:  Validation Cost: 2923.37890625 Accuracy: 0.824999988079071\n",
      "Epoch 17, CIFAR-10 Batch 2:  Validation Cost: 2880.701904296875 Accuracy: 0.949999988079071\n",
      "Epoch 17, CIFAR-10 Batch 3:  Validation Cost: 2997.095458984375 Accuracy: 0.8999999761581421\n",
      "Epoch 17, CIFAR-10 Batch 4:  Validation Cost: 2647.660888671875 Accuracy: 0.7749999761581421\n",
      "Epoch 17, CIFAR-10 Batch 5:  Validation Cost: 2901.1025390625 Accuracy: 0.800000011920929\n",
      "Epoch 18, CIFAR-10 Batch 1:  Validation Cost: 2621.656982421875 Accuracy: 0.824999988079071\n",
      "Epoch 18, CIFAR-10 Batch 2:  Validation Cost: 2662.202392578125 Accuracy: 0.824999988079071\n",
      "Epoch 18, CIFAR-10 Batch 3:  Validation Cost: 2454.136962890625 Accuracy: 0.824999988079071\n",
      "Epoch 18, CIFAR-10 Batch 4:  Validation Cost: 2341.1044921875 Accuracy: 0.75\n",
      "Epoch 18, CIFAR-10 Batch 5:  Validation Cost: 2463.256103515625 Accuracy: 0.7250000238418579\n",
      "Epoch 19, CIFAR-10 Batch 1:  Validation Cost: 2170.04296875 Accuracy: 0.824999988079071\n",
      "Epoch 19, CIFAR-10 Batch 2:  Validation Cost: 2352.548095703125 Accuracy: 0.8500000238418579\n",
      "Epoch 19, CIFAR-10 Batch 3:  Validation Cost: 2175.768798828125 Accuracy: 0.8999999761581421\n",
      "Epoch 19, CIFAR-10 Batch 4:  Validation Cost: 1987.7364501953125 Accuracy: 0.7250000238418579\n",
      "Epoch 19, CIFAR-10 Batch 5:  Validation Cost: 2112.08837890625 Accuracy: 0.7250000238418579\n",
      "Epoch 20, CIFAR-10 Batch 1:  Validation Cost: 1874.206787109375 Accuracy: 0.800000011920929\n",
      "Epoch 20, CIFAR-10 Batch 2:  Validation Cost: 2009.5472412109375 Accuracy: 0.824999988079071\n",
      "Epoch 20, CIFAR-10 Batch 3:  Validation Cost: 1780.2701416015625 Accuracy: 0.8999999761581421\n",
      "Epoch 20, CIFAR-10 Batch 4:  Validation Cost: 1653.2366943359375 Accuracy: 0.824999988079071\n",
      "Epoch 20, CIFAR-10 Batch 5:  Validation Cost: 1803.3004150390625 Accuracy: 0.7749999761581421\n",
      "Epoch 21, CIFAR-10 Batch 1:  Validation Cost: 1605.3255615234375 Accuracy: 0.800000011920929\n",
      "Epoch 21, CIFAR-10 Batch 2:  Validation Cost: 1810.9476318359375 Accuracy: 0.8500000238418579\n",
      "Epoch 21, CIFAR-10 Batch 3:  Validation Cost: 1598.82861328125 Accuracy: 0.8999999761581421\n",
      "Epoch 21, CIFAR-10 Batch 4:  Validation Cost: 1438.6512451171875 Accuracy: 0.8500000238418579\n",
      "Epoch 21, CIFAR-10 Batch 5:  Validation Cost: 1626.2265625 Accuracy: 0.6499999761581421\n",
      "Epoch 22, CIFAR-10 Batch 1:  Validation Cost: 1376.9876708984375 Accuracy: 0.75\n",
      "Epoch 22, CIFAR-10 Batch 2:  Validation Cost: 1566.7337646484375 Accuracy: 0.800000011920929\n",
      "Epoch 22, CIFAR-10 Batch 3:  Validation Cost: 1387.111572265625 Accuracy: 0.949999988079071\n",
      "Epoch 22, CIFAR-10 Batch 4:  Validation Cost: 1230.0550537109375 Accuracy: 0.8500000238418579\n",
      "Epoch 22, CIFAR-10 Batch 5:  Validation Cost: 1384.76904296875 Accuracy: 0.7749999761581421\n",
      "Epoch 23, CIFAR-10 Batch 1:  Validation Cost: 1236.56103515625 Accuracy: 0.7749999761581421\n",
      "Epoch 23, CIFAR-10 Batch 2:  Validation Cost: 1374.71826171875 Accuracy: 0.75\n",
      "Epoch 23, CIFAR-10 Batch 3:  Validation Cost: 1152.2080078125 Accuracy: 1.0\n",
      "Epoch 23, CIFAR-10 Batch 4:  Validation Cost: 1081.41357421875 Accuracy: 0.800000011920929\n",
      "Epoch 23, CIFAR-10 Batch 5:  Validation Cost: 1187.9586181640625 Accuracy: 0.800000011920929\n",
      "Epoch 24, CIFAR-10 Batch 1:  Validation Cost: 1069.81787109375 Accuracy: 0.800000011920929\n",
      "Epoch 24, CIFAR-10 Batch 2:  Validation Cost: 1116.5601806640625 Accuracy: 0.875\n",
      "Epoch 24, CIFAR-10 Batch 3:  Validation Cost: 1019.5974731445312 Accuracy: 0.8999999761581421\n",
      "Epoch 24, CIFAR-10 Batch 4:  Validation Cost: 957.5925903320312 Accuracy: 0.8999999761581421\n",
      "Epoch 24, CIFAR-10 Batch 5:  Validation Cost: 1037.74951171875 Accuracy: 0.824999988079071\n",
      "Epoch 25, CIFAR-10 Batch 1:  Validation Cost: 946.67822265625 Accuracy: 0.800000011920929\n",
      "Epoch 25, CIFAR-10 Batch 2:  Validation Cost: 989.4213256835938 Accuracy: 0.875\n",
      "Epoch 25, CIFAR-10 Batch 3:  Validation Cost: 948.593505859375 Accuracy: 0.9750000238418579\n",
      "Epoch 25, CIFAR-10 Batch 4:  Validation Cost: 836.9097290039062 Accuracy: 0.824999988079071\n",
      "Epoch 25, CIFAR-10 Batch 5:  Validation Cost: 865.3759155273438 Accuracy: 0.75\n"
     ]
    }
   ],
   "source": [
    "\"\"\"\n",
    "DON'T MODIFY ANYTHING IN THIS CELL\n",
    "\"\"\"\n",
    "save_model_path = './image_classification'\n",
    "\n",
    "print('Training...')\n",
    "with tf.Session() as sess:\n",
    "    # Initializing the variables\n",
    "    sess.run(tf.global_variables_initializer())\n",
    "    \n",
    "    # Training cycle\n",
    "    for epoch in range(epochs):\n",
    "        # Loop over all batches\n",
    "        n_batches = 5\n",
    "        for batch_i in range(1, n_batches + 1):\n",
    "            for batch_features, batch_labels in helper.load_preprocess_training_batch(batch_i, batch_size):\n",
    "                train_neural_network(sess, optimizer, keep_probability, batch_features, batch_labels)\n",
    "            print('Epoch {:>2}, CIFAR-10 Batch {}:  '.format(epoch + 1, batch_i), end='')\n",
    "            print_stats(sess, batch_features, batch_labels, cost, accuracy)\n",
    "            \n",
    "    # Save Model\n",
    "    saver = tf.train.Saver()\n",
    "    save_path = saver.save(sess, save_model_path)"
   ]
  },
  {
   "cell_type": "markdown",
   "metadata": {},
   "source": [
    "# Checkpoint\n",
    "The model has been saved to disk.\n",
    "## Test Model\n",
    "Test your model against the test dataset.  This will be your final accuracy. You should have an accuracy greater than 50%. If you don't, keep tweaking the model architecture and parameters."
   ]
  },
  {
   "cell_type": "code",
   "execution_count": 26,
   "metadata": {
    "collapsed": false
   },
   "outputs": [
    {
     "name": "stdout",
     "output_type": "stream",
     "text": [
      "Testing Accuracy: 0.5262064873417721\n",
      "\n"
     ]
    },
    {
     "data": {
      "image/png": "[encoded data removed]",
      "text/plain": [
       "<matplotlib.figure.Figure at 0x1203a2e8>"
      ]
     },
     "metadata": {
      "image/png": {
       "height": 319,
       "width": 349
      }
     },
     "output_type": "display_data"
    }
   ],
   "source": [
    "\"\"\"\n",
    "DON'T MODIFY ANYTHING IN THIS CELL\n",
    "\"\"\"\n",
    "%matplotlib inline\n",
    "%config InlineBackend.figure_format = 'retina'\n",
    "\n",
    "import tensorflow as tf\n",
    "import pickle\n",
    "import helper\n",
    "import random\n",
    "\n",
    "# Set batch size if not already set\n",
    "try:\n",
    "    if batch_size:\n",
    "        pass\n",
    "except NameError:\n",
    "    batch_size = 64\n",
    "\n",
    "save_model_path = './image_classification'\n",
    "n_samples = 4\n",
    "top_n_predictions = 3\n",
    "\n",
    "def test_model():\n",
    "    \"\"\"\n",
    "    Test the saved model against the test dataset\n",
    "    \"\"\"\n",
    "\n",
    "    test_features, test_labels = pickle.load(open('preprocess_training.p', mode='rb'))\n",
    "    loaded_graph = tf.Graph()\n",
    "\n",
    "    with tf.Session(graph=loaded_graph) as sess:\n",
    "        # Load model\n",
    "        loader = tf.train.import_meta_graph(save_model_path + '.meta')\n",
    "        loader.restore(sess, save_model_path)\n",
    "\n",
    "        # Get Tensors from loaded model\n",
    "        loaded_x = loaded_graph.get_tensor_by_name('x:0')\n",
    "        loaded_y = loaded_graph.get_tensor_by_name('y:0')\n",
    "        loaded_keep_prob = loaded_graph.get_tensor_by_name('keep_prob:0')\n",
    "        loaded_logits = loaded_graph.get_tensor_by_name('logits:0')\n",
    "        loaded_acc = loaded_graph.get_tensor_by_name('accuracy:0')\n",
    "        \n",
    "        # Get accuracy in batches for memory limitations\n",
    "        test_batch_acc_total = 0\n",
    "        test_batch_count = 0\n",
    "        \n",
    "        for train_feature_batch, train_label_batch in helper.batch_features_labels(test_features, test_labels, batch_size):\n",
    "            test_batch_acc_total += sess.run(\n",
    "                loaded_acc,\n",
    "                feed_dict={loaded_x: train_feature_batch, loaded_y: train_label_batch, loaded_keep_prob: 1.0})\n",
    "            test_batch_count += 1\n",
    "\n",
    "        print('Testing Accuracy: {}\\n'.format(test_batch_acc_total/test_batch_count))\n",
    "\n",
    "        # Print Random Samples\n",
    "        random_test_features, random_test_labels = tuple(zip(*random.sample(list(zip(test_features, test_labels)), n_samples)))\n",
    "        random_test_predictions = sess.run(\n",
    "            tf.nn.top_k(tf.nn.softmax(loaded_logits), top_n_predictions),\n",
    "            feed_dict={loaded_x: random_test_features, loaded_y: random_test_labels, loaded_keep_prob: 1.0})\n",
    "        helper.display_image_predictions(random_test_features, random_test_labels, random_test_predictions)\n",
    "\n",
    "\n",
    "test_model()"
   ]
  },
  {
   "cell_type": "markdown",
   "metadata": {},
   "source": [
    "## Why 50-70% Accuracy?\n",
    "You might be wondering why you can't get an accuracy any higher. First things first, 50% isn't bad for a simple CNN.  Pure guessing would get you 10% accuracy. However, you might notice people are getting scores [well above 70%](http://rodrigob.github.io/are_we_there_yet/build/classification_datasets_results.html#43494641522d3130).  That's because we haven't taught you all there is to know about neural networks. We still need to cover a few more techniques.\n",
    "## Submitting This Project\n",
    "When submitting this project, make sure to run all the cells before saving the notebook.  Save the notebook file as \"dlnd_image_classification.ipynb\" and save it as a HTML file under \"File\" -> \"Download as\".  Include the \"helper.py\" and \"problem_unittests.py\" files in your submission."
   ]
  }
 ],
 "metadata": {
  "anaconda-cloud": {},
  "kernelspec": {
   "display_name": "Python [conda root]",
   "language": "python",
   "name": "conda-root-py"
  },
  "language_info": {
   "codemirror_mode": {
    "name": "ipython",
    "version": 3
   },
   "file_extension": ".py",
   "mimetype": "text/x-python",
   "name": "python",
   "nbconvert_exporter": "python",
   "pygments_lexer": "ipython3",
   "version": "3.5.2"
  }
 },
 "nbformat": 4,
 "nbformat_minor": 0
}
